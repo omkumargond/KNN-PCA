{
  "nbformat": 4,
  "nbformat_minor": 0,
  "metadata": {
    "colab": {
      "provenance": []
    },
    "kernelspec": {
      "name": "python3",
      "display_name": "Python 3"
    },
    "language_info": {
      "name": "python"
    }
  },
  "cells": [
    {
      "cell_type": "markdown",
      "source": [
        "Q1: What is KNN and how does it work in classification & regression?\n",
        "\n",
        "- Answer:\n",
        " KNN is a simple, instance-based algorithm.\n",
        " Classification: Assigns the majority class among the K nearest neighbors.\n",
        " Regression: Predicts the mean/weighted mean of neighbors’ values.\n",
        " Performance depends on K, distance metric, and scaling.\n",
        "\n",
        " Q2: What is the Curse of Dimensionality and how does it affect KNN?\n",
        "\n",
        "- Answer:\n",
        "In high dimensions, distances become less meaningful → neighbors look equally far.\n",
        "For KNN, this reduces accuracy, increases variance, and makes model unreliable. PCA/feature reduction helps.\n",
        "\n",
        "Q3: What is PCA? How is it different from feature selection?\n",
        "\n",
        " - Answer:\n",
        "PCA is a linear technique that creates new orthogonal features (principal components) capturing max variance.\n",
        " PCA: Creates new features (linear combinations).\n",
        " Feature selection: Keeps some original features only.\n",
        "\n",
        " Q4: What are eigenvalues and eigenvectors in PCA, and why important?\n",
        "\n",
        " - Answer:\n",
        "Eigenvectors: Directions of max variance (principal axes).\n",
        "Eigenvalues: Amount of variance captured.\n",
        "They decide which components to keep for dimensionality reduction.\n",
        "\n",
        "Q5: How do KNN & PCA complement each other?\n",
        "\n",
        "- Answer:\n",
        "PCA reduces noise & dimensions → distances become meaningful.\n",
        "KNN then works better and faster in this reduced space."
      ],
      "metadata": {
        "id": "-wOe5a-Nt3jN"
      }
    },
    {
      "cell_type": "code",
      "source": [
        "#Question 6: Train a KNN Classifier on the Wine dataset with and without feature\n",
        "#scaling. Compare model accuracy in both cases.\n",
        "'''\n",
        "from sklearn.datasets import load_wine\n",
        "from sklearn.model_selection import train_test_split\n",
        "from sklearn.neighbors import KNeighborsClassifier\n",
        "from sklearn.preprocessing import StandardScaler\n",
        "from sklearn.pipeline import Pipeline\n",
        "from sklearn.metrics import accuracy_score\n",
        "\n",
        "X, y = load_wine(return_X_y=True)\n",
        "X_train, X_test, y_train, y_test = train_test_split(X, y, stratify=y, random_state=42)\n",
        "\n",
        "# Without scaling\n",
        "knn = KNeighborsClassifier(n_neighbors=5).fit(X_train, y_train)\n",
        "print(\"Without scaling:\", accuracy_score(y_test, knn.predict(X_test)))\n",
        "\n",
        "# With scaling\n",
        "pipe = Pipeline([(\"scaler\", StandardScaler()), (\"knn\", KNeighborsClassifier(5))])\n",
        "pipe.fit(X_train, y_train)\n",
        "print(\"With scaling   :\", accuracy_score(y_test, pipe.predict(X_test)))\n",
        "\n",
        "'''\n"
      ],
      "metadata": {
        "colab": {
          "base_uri": "https://localhost:8080/",
          "height": 105
        },
        "id": "4jpr_ywmuvGe",
        "outputId": "c6542755-96ee-4ffb-cfc1-9d852fd0d2cb"
      },
      "execution_count": 1,
      "outputs": [
        {
          "output_type": "execute_result",
          "data": {
            "text/plain": [
              "'\\nfrom sklearn.datasets import load_wine\\nfrom sklearn.model_selection import train_test_split\\nfrom sklearn.neighbors import KNeighborsClassifier\\nfrom sklearn.preprocessing import StandardScaler\\nfrom sklearn.pipeline import Pipeline\\nfrom sklearn.metrics import accuracy_score\\n\\nX, y = load_wine(return_X_y=True)\\nX_train, X_test, y_train, y_test = train_test_split(X, y, stratify=y, random_state=42)\\n\\n# Without scaling\\nknn = KNeighborsClassifier(n_neighbors=5).fit(X_train, y_train)\\nprint(\"Without scaling:\", accuracy_score(y_test, knn.predict(X_test)))\\n\\n# With scaling\\npipe = Pipeline([(\"scaler\", StandardScaler()), (\"knn\", KNeighborsClassifier(5))])\\npipe.fit(X_train, y_train)\\nprint(\"With scaling   :\", accuracy_score(y_test, pipe.predict(X_test)))\\n\\n'"
            ],
            "application/vnd.google.colaboratory.intrinsic+json": {
              "type": "string"
            }
          },
          "metadata": {},
          "execution_count": 1
        }
      ]
    },
    {
      "cell_type": "code",
      "source": [
        "#Question 7: Train a PCA model on the Wine dataset and print the explained variance\n",
        "#ratio of each principal component.\n",
        "'''\n",
        "from sklearn.preprocessing import StandardScaler\n",
        "from sklearn.decomposition import PCA\n",
        "X_scaled = StandardScaler().fit_transform(X)\n",
        "pca = PCA().fit(X_scaled)\n",
        "print(pca.explained_variance_ratio_)\n",
        "\n",
        "'''\n"
      ],
      "metadata": {
        "colab": {
          "base_uri": "https://localhost:8080/",
          "height": 53
        },
        "id": "-iNYl1Cyu4aU",
        "outputId": "ca258aff-ea62-468d-d936-94589333e8b5"
      },
      "execution_count": 2,
      "outputs": [
        {
          "output_type": "execute_result",
          "data": {
            "text/plain": [
              "'\\nfrom sklearn.preprocessing import StandardScaler\\nfrom sklearn.decomposition import PCA\\nX_scaled = StandardScaler().fit_transform(X)\\npca = PCA().fit(X_scaled)\\nprint(pca.explained_variance_ratio_)\\n\\n'"
            ],
            "application/vnd.google.colaboratory.intrinsic+json": {
              "type": "string"
            }
          },
          "metadata": {},
          "execution_count": 2
        }
      ]
    },
    {
      "cell_type": "code",
      "source": [
        "#Question 8: Train a KNN Classifier on the PCA-transformed dataset (retain top 2\n",
        "#components). Compare the accuracy with the original dataset.\n",
        "'''\n",
        "pipe_orig = Pipeline([(\"scaler\", StandardScaler()), (\"knn\", KNeighborsClassifier(5))])\n",
        "pipe_orig.fit(X_train, y_train)\n",
        "print(\"Original scaled:\", accuracy_score(y_test, pipe_orig.predict(X_test)))\n",
        "\n",
        "pipe_pca = Pipeline([(\"scaler\", StandardScaler()), (\"pca\", PCA(2)), (\"knn\", KNeighborsClassifier(5))])\n",
        "pipe_pca.fit(X_train, y_train)\n",
        "print(\"PCA (2 comps):\", accuracy_score(y_test, pipe_pca.predict(X_test)))\n",
        "\n",
        "'''"
      ],
      "metadata": {
        "colab": {
          "base_uri": "https://localhost:8080/",
          "height": 70
        },
        "id": "tyEgvI-9vBRH",
        "outputId": "4ec17afc-0a1c-4f44-8a1e-ce8a9d419882"
      },
      "execution_count": 3,
      "outputs": [
        {
          "output_type": "execute_result",
          "data": {
            "text/plain": [
              "'\\npipe_orig = Pipeline([(\"scaler\", StandardScaler()), (\"knn\", KNeighborsClassifier(5))])\\npipe_orig.fit(X_train, y_train)\\nprint(\"Original scaled:\", accuracy_score(y_test, pipe_orig.predict(X_test)))\\n\\npipe_pca = Pipeline([(\"scaler\", StandardScaler()), (\"pca\", PCA(2)), (\"knn\", KNeighborsClassifier(5))])\\npipe_pca.fit(X_train, y_train)\\nprint(\"PCA (2 comps):\", accuracy_score(y_test, pipe_pca.predict(X_test)))\\n\\n'"
            ],
            "application/vnd.google.colaboratory.intrinsic+json": {
              "type": "string"
            }
          },
          "metadata": {},
          "execution_count": 3
        }
      ]
    },
    {
      "cell_type": "code",
      "source": [
        "#Question 9: Train a KNN Classifier with different distance metrics (euclidean,\n",
        "#manhattan) on the scaled Wine dataset and compare the results.\n",
        "'''\n",
        "pipe_eu = Pipeline([(\"scaler\", StandardScaler()), (\"knn\", KNeighborsClassifier(5, metric=\"euclidean\"))])\n",
        "pipe_ma = Pipeline([(\"scaler\", StandardScaler()), (\"knn\", KNeighborsClassifier(5, metric=\"manhattan\"))])\n",
        "\n",
        "pipe_eu.fit(X_train, y_train)\n",
        "pipe_ma.fit(X_train, y_train)\n",
        "\n",
        "print(\"Euclidean:\", accuracy_score(y_test, pipe_eu.predict(X_test)))\n",
        "print(\"Manhattan:\", accuracy_score(y_test, pipe_ma.predict(X_test)))\n",
        "\n",
        "'''"
      ],
      "metadata": {
        "colab": {
          "base_uri": "https://localhost:8080/",
          "height": 70
        },
        "id": "cHxHZtUwvK4F",
        "outputId": "ae241a0e-e1cb-413f-d4a2-aff16c33b6cd"
      },
      "execution_count": 4,
      "outputs": [
        {
          "output_type": "execute_result",
          "data": {
            "text/plain": [
              "'\\npipe_eu = Pipeline([(\"scaler\", StandardScaler()), (\"knn\", KNeighborsClassifier(5, metric=\"euclidean\"))])\\npipe_ma = Pipeline([(\"scaler\", StandardScaler()), (\"knn\", KNeighborsClassifier(5, metric=\"manhattan\"))])\\n\\npipe_eu.fit(X_train, y_train)\\npipe_ma.fit(X_train, y_train)\\n\\nprint(\"Euclidean:\", accuracy_score(y_test, pipe_eu.predict(X_test)))\\nprint(\"Manhattan:\", accuracy_score(y_test, pipe_ma.predict(X_test)))\\n\\n'"
            ],
            "application/vnd.google.colaboratory.intrinsic+json": {
              "type": "string"
            }
          },
          "metadata": {},
          "execution_count": 4
        }
      ]
    },
    {
      "cell_type": "code",
      "source": [
        "#Question 10: You are working with a high-dimensional gene expression dataset to\n",
        "#classify patients with different types of cancer.\n",
        "#Due to the large number of features and a small number of samples, traditional models overfit.\n",
        "'''\n",
        "from sklearn.datasets import make_classification\n",
        "from sklearn.model_selection import cross_val_score, StratifiedKFold\n",
        "\n",
        "Xg, yg = make_classification(n_samples=200, n_features=500, n_informative=30, n_classes=3, random_state=42)\n",
        "\n",
        "pipe = Pipeline([(\"scaler\", StandardScaler()), (\"pca\", PCA(30)), (\"knn\", KNeighborsClassifier(5))])\n",
        "cv = StratifiedKFold(3, shuffle=True, random_state=42)\n",
        "\n",
        "acc = cross_val_score(pipe, Xg, yg, cv=cv, scoring=\"accuracy\")\n",
        "print(\"CV Accuracy mean:\", acc.mean())\n",
        "\n",
        "'''"
      ],
      "metadata": {
        "colab": {
          "base_uri": "https://localhost:8080/",
          "height": 87
        },
        "id": "x7rvIF4rvTxc",
        "outputId": "9f56ca53-356a-40a1-eccc-43349b4f2594"
      },
      "execution_count": 5,
      "outputs": [
        {
          "output_type": "execute_result",
          "data": {
            "text/plain": [
              "'\\nfrom sklearn.datasets import make_classification\\nfrom sklearn.model_selection import cross_val_score, StratifiedKFold\\n\\nXg, yg = make_classification(n_samples=200, n_features=500, n_informative=30, n_classes=3, random_state=42)\\n\\npipe = Pipeline([(\"scaler\", StandardScaler()), (\"pca\", PCA(30)), (\"knn\", KNeighborsClassifier(5))])\\ncv = StratifiedKFold(3, shuffle=True, random_state=42)\\n\\nacc = cross_val_score(pipe, Xg, yg, cv=cv, scoring=\"accuracy\")\\nprint(\"CV Accuracy mean:\", acc.mean())\\n\\n'"
            ],
            "application/vnd.google.colaboratory.intrinsic+json": {
              "type": "string"
            }
          },
          "metadata": {},
          "execution_count": 5
        }
      ]
    },
    {
      "cell_type": "code",
      "source": [],
      "metadata": {
        "id": "rUvpoib_vg92"
      },
      "execution_count": null,
      "outputs": []
    }
  ]
}